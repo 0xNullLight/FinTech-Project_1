{
 "cells": [
  {
   "cell_type": "code",
   "execution_count": 3,
   "id": "586db12e-859b-4c4b-835a-95583a13c210",
   "metadata": {},
   "outputs": [],
   "source": [
    "# Import libraries and dependencies\n",
    "import pandas as pd\n",
    "from pathlib import Path\n",
    "\n",
    "# Import the hvPlot library\n",
    "import hvplot.pandas\n",
    "\n",
    "# Path leading to the CSV file required to analyze paychecks\n",
    "tmDB_csv = Path(\"TMDB_movie_dataset_v11.csv\")\n",
    "\n",
    "tmDB_df = pd.read_csv(tmDB_csv)\n",
    "\n",
    "# Convert 'release_date' column to datetime type\n",
    "tmDB_df['release_date'] = pd.to_datetime(tmDB_df['release_date'])\n",
    "\n",
    "# Filter data for the specified date range (2006 till now), genre \"horror,\" and production country \"United States of America\"\n",
    "filtered_df = tmDB_df[\n",
    "    (tmDB_df['release_date'] >= '2010-01-01') & \n",
    "    (tmDB_df['release_date'] <= pd.to_datetime('today')) & \n",
    "#    (tmDB_df['genres'].str.contains('Comedy', case=False)) &\n",
    "    (tmDB_df['genres'].str.contains('Horror', case=False)) &\n",
    "    (tmDB_df['production_countries'].str.contains('United States of America'))\n",
    "]\n",
    "\n",
    "# Sort the DataFrame by 'release_date'\n",
    "filtered_df = filtered_df.sort_values(by='release_date', ascending=False)\n",
    "# filtered_df.to_csv(\"filtered_tmDB_data_2010-24_comedy.csv\", index=False)\n",
    "filtered_df.to_csv(\"filtered_tmDB_data_2010-24_horror.csv\", index=False)"
   ]
  }
 ],
 "metadata": {
  "kernelspec": {
   "display_name": "Python 3 (ipykernel)",
   "language": "python",
   "name": "python3"
  },
  "language_info": {
   "codemirror_mode": {
    "name": "ipython",
    "version": 3
   },
   "file_extension": ".py",
   "mimetype": "text/x-python",
   "name": "python",
   "nbconvert_exporter": "python",
   "pygments_lexer": "ipython3",
   "version": "3.11.5"
  }
 },
 "nbformat": 4,
 "nbformat_minor": 5
}
